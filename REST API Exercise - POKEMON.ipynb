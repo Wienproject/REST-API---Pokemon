{
 "cells": [
  {
   "cell_type": "code",
   "execution_count": null,
   "metadata": {},
   "outputs": [],
   "source": [
    "POKEMON API\n",
    "\n",
    "Input:\n",
    "    - Masukkan nama POKEMON\n",
    "\n",
    "Output:\n",
    "    - Nama POKEMON:\n",
    "    - HP:\n",
    "    - Attack:\n",
    "    - Defense:\n",
    "    - Speed:\n",
    "    - Type:\n",
    "    - URL: berisi foto POKEMON\n",
    "    - Ability name:\n",
    "        1....\n",
    "        2....\n",
    "        3...."
   ]
  },
  {
   "cell_type": "code",
   "execution_count": 3,
   "metadata": {},
   "outputs": [
    {
     "name": "stdout",
     "output_type": "stream",
     "text": [
      "Enter Pokemon name: lapras\n",
      "\n",
      "Pokemon Name: lapras \n",
      "\n",
      "Type 1: water\n",
      "Type 2: ice\n",
      "\n",
      "To see the pokemon, \n",
      "click the link: \n",
      "https://raw.githubusercontent.com/PokeAPI/sprites/master/sprites/pokemon/131.png\n",
      "\n",
      "Abilities 1: water-absorb\n",
      "Abilities 2: shell-armor\n",
      "Abilities 3: hydration\n",
      "\n",
      "Pokemon Status: \n",
      "\n",
      "HP: 130\n",
      "Attack: 85\n",
      "Defense: 80\n",
      "Speed: 60\n"
     ]
    }
   ],
   "source": [
    "import requests\n",
    "try:\n",
    "    Pokemon_Name= (str(input('Enter Pokemon name: '))).lower()\n",
    "    url=f'https://pokeapi.co/api/v2/pokemon/{Pokemon_Name}'\n",
    "\n",
    "    pokemondata = (requests.get(url)).json()\n",
    "    \n",
    "    print(f'\\nPokemon Name: {Pokemon_Name} \\n')\n",
    "    \n",
    "#'''TYPE'''\n",
    "    type_pokemon=[]\n",
    "    type_no=1\n",
    "    for x in (range(len(pokemondata['types']))):\n",
    "        type_pokemon.append(pokemondata['types'][x]['type']['name'])\n",
    "    for j in (type_pokemon):\n",
    "        print(f'Type {type_no}: {j}')\n",
    "        type_no+=1\n",
    "        \n",
    "#'''IMAGE'''        \n",
    "    Image=(pokemondata['sprites']['front_default'])\n",
    "    print(f'\\nTo see the pokemon, \\nclick the link: \\n{Image}\\n')\n",
    "    \n",
    "#'''ABILITIES'''        \n",
    "    abil=[]\n",
    "    abil_no=1\n",
    "    for x in (range(len(pokemondata['abilities']))):\n",
    "        abil.append(pokemondata['abilities'][x]['ability']['name']) \n",
    "    for j in abil:\n",
    "        print (f'Abilities {abil_no}: {j}')\n",
    "        abil_no+=1\n",
    "\n",
    "#'''POKEMON STATUS'''\n",
    "    print('\\n\\nPokemon Status: \\n')   \n",
    "    HP= pokemondata['stats'][0]['base_stat']\n",
    "    print(f'HP: {HP}')\n",
    "    Attack=pokemondata['stats'][1]['base_stat']\n",
    "    print(f'Attack: {Attack}')\n",
    "    Defense=pokemondata['stats'][2]['base_stat']\n",
    "    print(f'Defense: {Defense}')\n",
    "    Speed=pokemondata['stats'][5]['base_stat']\n",
    "    print(f'Speed: {Speed}')\n",
    "\n",
    "except:\n",
    "    print('Wrong Pokemon Name !!')"
   ]
  },
  {
   "cell_type": "code",
   "execution_count": null,
   "metadata": {},
   "outputs": [],
   "source": []
  }
 ],
 "metadata": {
  "kernelspec": {
   "display_name": "Python 3",
   "language": "python",
   "name": "python3"
  },
  "language_info": {
   "codemirror_mode": {
    "name": "ipython",
    "version": 3
   },
   "file_extension": ".py",
   "mimetype": "text/x-python",
   "name": "python",
   "nbconvert_exporter": "python",
   "pygments_lexer": "ipython3",
   "version": "3.8.3"
  }
 },
 "nbformat": 4,
 "nbformat_minor": 4
}
