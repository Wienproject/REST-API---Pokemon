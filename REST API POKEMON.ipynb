{
 "cells": [
  {
   "cell_type": "code",
   "execution_count": 15,
   "metadata": {},
   "outputs": [
    {
     "name": "stdout",
     "output_type": "stream",
     "text": [
      "Enter Pokemon name: raichu\n",
      "\n",
      "Pokemon Name: raichu\n",
      "\n",
      "Pokemon Type: electric\n",
      "\n",
      "\n",
      "To see the pokemon, \n",
      "click the link: https://raw.githubusercontent.com/PokeAPI/sprites/master/sprites/pokemon/26.png\n",
      "\n",
      "Abilities 1: static\n",
      "Abilities 2: lightning-rod\n",
      "\n",
      "Pokemon Status: \n",
      "HP: 60\n",
      "Attack: 90\n",
      "Defense: 55\n",
      "Speed: 110\n"
     ]
    }
   ],
   "source": [
    "import requests\n",
    "try:\n",
    "    Pokemon_Name= (str(input('Enter Pokemon name: '))).lower()\n",
    "    url=f'https://pokeapi.co/api/v2/pokemon/{Pokemon_Name}'\n",
    "\n",
    "    pokemondata = (requests.get(url)).json()\n",
    "    \n",
    "    print('\\nPokemon Name:', Pokemon_Name)\n",
    "    \n",
    "    for x in pokemondata['types']:\n",
    "        TYPE=(x['type']['name'])\n",
    "        print(f'\\nPokemon Type: {TYPE}\\n')\n",
    "        \n",
    "    Image=(pokemondata['sprites']['front_default'])\n",
    "    print(f'\\nTo see the pokemon, \\nclick the link: {Image}\\n')\n",
    "        \n",
    "    abil=[]\n",
    "    abil_no=1\n",
    "    for x in (range(len(pokemondata['abilities']))):\n",
    "        abil.append(pokemondata['abilities'][x]['ability']['name']) \n",
    "    for j in abil:\n",
    "        print (f'Abilities {abil_no}: {j}')\n",
    "        abil_no+=1\n",
    "\n",
    "    print('\\nPokemon Status: ')   \n",
    "    HP= pokemondata['stats'][0]['base_stat']\n",
    "    print(f'HP: {HP}')\n",
    "    Attack=pokemondata['stats'][1]['base_stat']\n",
    "    print(f'Attack: {Attack}')\n",
    "    Defense=pokemondata['stats'][2]['base_stat']\n",
    "    print(f'Defense: {Defense}')\n",
    "    Speed=pokemondata['stats'][5]['base_stat']\n",
    "    print(f'Speed: {Speed}')\n",
    "\n",
    "except:\n",
    "    print('Wrong Pokemon Name !!')"
   ]
  },
  {
   "cell_type": "code",
   "execution_count": 10,
   "metadata": {},
   "outputs": [
    {
     "name": "stdout",
     "output_type": "stream",
     "text": [
      "abilities\n",
      "base_experience\n",
      "forms\n",
      "game_indices\n",
      "height\n",
      "held_items\n",
      "id\n",
      "is_default\n",
      "location_area_encounters\n",
      "moves\n",
      "name\n",
      "order\n",
      "species\n",
      "sprites\n",
      "stats\n",
      "types\n",
      "weight\n",
      "https://raw.githubusercontent.com/PokeAPI/sprites/master/sprites/pokemon/5.png\n"
     ]
    }
   ],
   "source": [
    "for i in pokemondata:\n",
    "    print (i)\n",
    "Image=(pokemondata['sprites']['front_default'])\n",
    "print(f'To see the pokemon, click the link: {Image}')"
   ]
  },
  {
   "cell_type": "code",
   "execution_count": 207,
   "metadata": {},
   "outputs": [
    {
     "name": "stdout",
     "output_type": "stream",
     "text": [
      "{'base_stat': 25, 'effort': 0, 'stat': {'name': 'hp', 'url': 'https://pokeapi.co/api/v2/stat/1/'}}\n",
      "{'base_stat': 20, 'effort': 0, 'stat': {'name': 'attack', 'url': 'https://pokeapi.co/api/v2/stat/2/'}}\n",
      "{'base_stat': 15, 'effort': 0, 'stat': {'name': 'defense', 'url': 'https://pokeapi.co/api/v2/stat/3/'}}\n",
      "{'base_stat': 105, 'effort': 1, 'stat': {'name': 'special-attack', 'url': 'https://pokeapi.co/api/v2/stat/4/'}}\n",
      "{'base_stat': 55, 'effort': 0, 'stat': {'name': 'special-defense', 'url': 'https://pokeapi.co/api/v2/stat/5/'}}\n",
      "{'base_stat': 90, 'effort': 0, 'stat': {'name': 'speed', 'url': 'https://pokeapi.co/api/v2/stat/6/'}}\n",
      "HP: 25\n",
      "Attack: 20\n",
      "Defense: 15\n",
      "Speed: 90\n"
     ]
    }
   ],
   "source": [
    "for x in (pokemondata['stats']):\n",
    "    print(x)\n",
    "HP= pokemondata['stats'][0]['base_stat']\n",
    "print(f'HP: {HP}')\n",
    "Attack=pokemondata['stats'][1]['base_stat']\n",
    "print(f'Attack: {Attack}')\n",
    "Defense=pokemondata['stats'][2]['base_stat']\n",
    "print(f'Defense: {Defense}')\n",
    "Speed=pokemondata['stats'][5]['base_stat']\n",
    "print(f'Speed: {Speed}')"
   ]
  },
  {
   "cell_type": "code",
   "execution_count": 102,
   "metadata": {},
   "outputs": [
    {
     "name": "stdout",
     "output_type": "stream",
     "text": [
      "Pokemon Type: electric\n"
     ]
    }
   ],
   "source": [
    "for x in pokemondata['types']:\n",
    "    TYPE=(x['type']['name'])\n",
    "    print(f'Pokemon Type: {TYPE}')"
   ]
  },
  {
   "cell_type": "code",
   "execution_count": 195,
   "metadata": {},
   "outputs": [
    {
     "name": "stdout",
     "output_type": "stream",
     "text": [
      "1 8\n",
      "2 23\n",
      "3 45\n",
      "4 12\n",
      "5 78\n"
     ]
    }
   ],
   "source": [
    "items = [8, 23, 45, 12, 78]\n",
    "index = 1        # Python's indexing starts at one\n",
    "for item in items:   # Python's for loops are a \"for each\" loop \n",
    "    print(index, item)\n",
    "    index += 1"
   ]
  },
  {
   "cell_type": "code",
   "execution_count": null,
   "metadata": {},
   "outputs": [],
   "source": []
  }
 ],
 "metadata": {
  "kernelspec": {
   "display_name": "Python 3",
   "language": "python",
   "name": "python3"
  },
  "language_info": {
   "codemirror_mode": {
    "name": "ipython",
    "version": 3
   },
   "file_extension": ".py",
   "mimetype": "text/x-python",
   "name": "python",
   "nbconvert_exporter": "python",
   "pygments_lexer": "ipython3",
   "version": "3.8.3"
  }
 },
 "nbformat": 4,
 "nbformat_minor": 4
}
